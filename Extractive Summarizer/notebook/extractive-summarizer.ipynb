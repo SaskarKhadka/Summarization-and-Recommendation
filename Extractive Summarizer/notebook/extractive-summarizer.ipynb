{
 "cells": [
  {
   "cell_type": "code",
   "execution_count": 1,
   "id": "e387abf9",
   "metadata": {
    "execution": {
     "iopub.execute_input": "2024-01-07T19:29:18.595679Z",
     "iopub.status.busy": "2024-01-07T19:29:18.594780Z",
     "iopub.status.idle": "2024-01-07T19:29:20.245678Z",
     "shell.execute_reply": "2024-01-07T19:29:20.244852Z"
    },
    "papermill": {
     "duration": 1.661643,
     "end_time": "2024-01-07T19:29:20.248141",
     "exception": false,
     "start_time": "2024-01-07T19:29:18.586498",
     "status": "completed"
    },
    "tags": []
   },
   "outputs": [],
   "source": [
    "import pandas as pd\n",
    "import numpy as np\n",
    "import matplotlib.pyplot as plt\n",
    "import seaborn as sns"
   ]
  },
  {
   "cell_type": "code",
   "execution_count": 2,
   "id": "eb0f47d2",
   "metadata": {
    "execution": {
     "iopub.execute_input": "2024-01-07T19:29:20.263118Z",
     "iopub.status.busy": "2024-01-07T19:29:20.262146Z",
     "iopub.status.idle": "2024-01-07T19:29:20.996439Z",
     "shell.execute_reply": "2024-01-07T19:29:20.995421Z"
    },
    "papermill": {
     "duration": 0.744478,
     "end_time": "2024-01-07T19:29:20.999160",
     "exception": false,
     "start_time": "2024-01-07T19:29:20.254682",
     "status": "completed"
    },
    "tags": []
   },
   "outputs": [],
   "source": [
    "import codecs\n",
    "import string\n",
    "from nltk.corpus import stopwords\n",
    "import re"
   ]
  },
  {
   "cell_type": "code",
   "execution_count": 3,
   "id": "1cc47046",
   "metadata": {
    "execution": {
     "iopub.execute_input": "2024-01-07T19:29:21.016027Z",
     "iopub.status.busy": "2024-01-07T19:29:21.015295Z",
     "iopub.status.idle": "2024-01-07T19:29:21.025999Z",
     "shell.execute_reply": "2024-01-07T19:29:21.025004Z"
    },
    "papermill": {
     "duration": 0.021956,
     "end_time": "2024-01-07T19:29:21.028265",
     "exception": false,
     "start_time": "2024-01-07T19:29:21.006309",
     "status": "completed"
    },
    "tags": []
   },
   "outputs": [],
   "source": [
    "nep_stopwrods = stopwords.words(\"nepali\")"
   ]
  },
  {
   "cell_type": "code",
   "execution_count": 4,
   "id": "549432c4",
   "metadata": {
    "execution": {
     "iopub.execute_input": "2024-01-07T19:29:21.043340Z",
     "iopub.status.busy": "2024-01-07T19:29:21.042479Z",
     "iopub.status.idle": "2024-01-07T19:29:21.057567Z",
     "shell.execute_reply": "2024-01-07T19:29:21.056515Z"
    },
    "papermill": {
     "duration": 0.025393,
     "end_time": "2024-01-07T19:29:21.060135",
     "exception": false,
     "start_time": "2024-01-07T19:29:21.034742",
     "status": "completed"
    },
    "tags": []
   },
   "outputs": [],
   "source": [
    "import fasttext"
   ]
  },
  {
   "cell_type": "code",
   "execution_count": 5,
   "id": "eb5db52a",
   "metadata": {
    "execution": {
     "iopub.execute_input": "2024-01-07T19:29:21.075272Z",
     "iopub.status.busy": "2024-01-07T19:29:21.074263Z",
     "iopub.status.idle": "2024-01-07T22:50:57.616857Z",
     "shell.execute_reply": "2024-01-07T22:50:57.615776Z"
    },
    "papermill": {
     "duration": 12096.552437,
     "end_time": "2024-01-07T22:50:57.618936",
     "exception": false,
     "start_time": "2024-01-07T19:29:21.066499",
     "status": "completed"
    },
    "tags": []
   },
   "outputs": [
    {
     "name": "stderr",
     "output_type": "stream",
     "text": [
      "Read 65M words\n",
      "Number of words:  291366\n",
      "Number of labels: 0\n",
      "Progress: 100.0% words/sec/thread:   17990 lr:  0.000000 avg.loss:  0.125669 ETA:   0h 0m 0s\n"
     ]
    }
   ],
   "source": [
    "# model = fasttext.train_unsupervised('/kaggle/input/for-fasttext-embeddings/fasttext_news.txt', 'skipgram', wordNgrams=2, minn=5, maxn=6, dim=200, epoch=10, lr=0.001, verbose=2)"
   ]
  },
  {
   "cell_type": "code",
   "execution_count": null,
   "id": "3320705c",
   "metadata": {},
   "outputs": [],
   "source": [
    "# model.save_model('fasttext_summarizer_embeddings.bin')"
   ]
  },
  {
   "cell_type": "code",
   "execution_count": 5,
   "id": "b5dd689b",
   "metadata": {},
   "outputs": [],
   "source": [
    "model = fasttext.load_model('fasttext_summarizer_embeddings.bin')"
   ]
  },
  {
   "cell_type": "code",
   "execution_count": 6,
   "id": "1677547f",
   "metadata": {
    "execution": {
     "iopub.execute_input": "2024-01-07T22:51:12.858670Z",
     "iopub.status.busy": "2024-01-07T22:51:12.858278Z",
     "iopub.status.idle": "2024-01-07T22:51:14.807899Z",
     "shell.execute_reply": "2024-01-07T22:51:14.807031Z"
    },
    "papermill": {
     "duration": 5.437904,
     "end_time": "2024-01-07T22:51:14.809900",
     "exception": false,
     "start_time": "2024-01-07T22:51:09.371996",
     "status": "completed"
    },
    "tags": []
   },
   "outputs": [
    {
     "data": {
      "text/plain": [
       "[(0.9865414500236511, 'बझाङमै'),\n",
       " (0.9853097796440125, 'बझाङकाे'),\n",
       " (0.9850979447364807, 'बाजुरा'),\n",
       " (0.9847890138626099, 'डोटी'),\n",
       " (0.9842208027839661, 'बझाङी'),\n",
       " (0.9822198748588562, 'बाजुङ'),\n",
       " (0.9821557402610779, 'बाजुराली'),\n",
       " (0.9816499948501587, 'बझाङकै'),\n",
       " (0.9804821014404297, 'बाजुराकी'),\n",
       " (0.979947566986084, 'बाजुराकै')]"
      ]
     },
     "execution_count": 6,
     "metadata": {},
     "output_type": "execute_result"
    }
   ],
   "source": [
    "model.get_nearest_neighbors(\"बझाङ\")"
   ]
  },
  {
   "cell_type": "code",
   "execution_count": 7,
   "id": "30673e62",
   "metadata": {
    "execution": {
     "iopub.execute_input": "2024-01-07T22:51:21.711561Z",
     "iopub.status.busy": "2024-01-07T22:51:21.710685Z",
     "iopub.status.idle": "2024-01-07T22:51:21.831582Z",
     "shell.execute_reply": "2024-01-07T22:51:21.830702Z"
    },
    "papermill": {
     "duration": 3.622527,
     "end_time": "2024-01-07T22:51:21.833444",
     "exception": false,
     "start_time": "2024-01-07T22:51:18.210917",
     "status": "completed"
    },
    "tags": []
   },
   "outputs": [
    {
     "data": {
      "text/plain": [
       "[(0.9839907884597778, 'मर्मतकै'),\n",
       " (0.9828371405601501, 'मर्मतमै'),\n",
       " (0.9786332845687866, 'घरमर्मत'),\n",
       " (0.9718726873397827, 'मर्मतसम्भार'),\n",
       " (0.9696919918060303, 'नैरी'),\n",
       " (0.9687795042991638, 'मर्मतसंभार'),\n",
       " (0.9683992862701416, 'सडकमर्मत'),\n",
       " (0.9637904167175293, 'मर्मतको'),\n",
       " (0.9611237049102783, 'मर्मतका'),\n",
       " (0.9591922760009766, 'मर्मतमा')]"
      ]
     },
     "execution_count": 7,
     "metadata": {},
     "output_type": "execute_result"
    }
   ],
   "source": [
    "model.get_nearest_neighbors(\"मर्मत\")"
   ]
  },
  {
   "cell_type": "code",
   "execution_count": 8,
   "id": "535666e4",
   "metadata": {
    "execution": {
     "iopub.execute_input": "2024-01-07T22:51:28.998184Z",
     "iopub.status.busy": "2024-01-07T22:51:28.997173Z",
     "iopub.status.idle": "2024-01-07T22:51:29.002273Z",
     "shell.execute_reply": "2024-01-07T22:51:29.001345Z"
    },
    "papermill": {
     "duration": 3.620042,
     "end_time": "2024-01-07T22:51:29.004333",
     "exception": false,
     "start_time": "2024-01-07T22:51:25.384291",
     "status": "completed"
    },
    "tags": []
   },
   "outputs": [],
   "source": [
    "from sklearn.metrics.pairwise import cosine_similarity"
   ]
  },
  {
   "cell_type": "code",
   "execution_count": 9,
   "id": "fb58d99b",
   "metadata": {
    "execution": {
     "iopub.execute_input": "2024-01-07T22:51:35.808293Z",
     "iopub.status.busy": "2024-01-07T22:51:35.807939Z",
     "iopub.status.idle": "2024-01-07T22:51:35.814551Z",
     "shell.execute_reply": "2024-01-07T22:51:35.813749Z"
    },
    "papermill": {
     "duration": 3.510593,
     "end_time": "2024-01-07T22:51:35.816393",
     "exception": false,
     "start_time": "2024-01-07T22:51:32.305800",
     "status": "completed"
    },
    "tags": []
   },
   "outputs": [],
   "source": [
    "text = '''क्विन्टल सुन तस्करी प्रकरणमा नेकपा एमालेको अवरोधपछि राष्ट्रिय सभाको \n",
    "        बैठक स्थगित भएको छ । प्रमुख प्रतिपक्षी दल एमालेले सुन तस्करी प्रकरणको \n",
    "        छानबिनका लागि उच्चस्तरीय समिति गठन गर्न माग गर्दै संसद् अवरुद्ध पारेको हो । \n",
    "        एमालेकै विरोधका कारण प्रतिनिधिसभा बैठकसमेत अवरुद्ध छ । राष्ट्रिय सभाका अध्यक्ष \n",
    "        गणेशप्रसाद तिमिल्सिनाले निरन्तर संसद् अवरुद्ध हुँदै आएको विषयमा सरकारको ध्यानाकर्षण \n",
    "        गराएका छन् । उनले संसद खुलाउने विषयमा पहल लिन आग्रह गरे । एमालेको अवरोधपछि \n",
    "        राष्ट्रियसभाको बैठक साउन २२ गते सोमबार १ बजे बस्ने गरी स्थगित भएको छ । अन्तर्राष्ट्रिय \n",
    "        विमानस्थलबाट निकालिएको करिब एक क्विन्टल सुन साउन २ मा सिनामंगल सडकबाट \n",
    "        बरामद गरिएको थियो । भन्सार यार्ड पार गरेर बाहिरिएको क्विन्टल सुन बरामद भएको \n",
    "        दुई साता बितिसक्दा तस्करीमा प्रयोग भएका व्यक्ति मात्र पक्राउ परेका छन् । सुन बरामद \n",
    "        हुँदा एक भन्सार एजेन्ट र एक ट्याक्सी चालक पक्राउ परेका थिए । त्यसबाहेक भन्सार \n",
    "        अधिकृत, तीन भन्सार एजेन्ट र तीन विदेशी नागरिकसहित १७ जना समातिएका छन् । \n",
    "        राजस्व अनुसन्धान विभागले यो प्रकरणको छानबिन गरिरहेको छ । तर एमालेले भने \n",
    "        उच्चस्तरीय छानबिन समिति गठनको माग गर्दै संसद् अवरोध गर्दै आएको छ ।'''"
   ]
  },
  {
   "cell_type": "code",
   "execution_count": 10,
   "id": "bbaef389",
   "metadata": {
    "execution": {
     "iopub.execute_input": "2024-01-07T22:51:42.574578Z",
     "iopub.status.busy": "2024-01-07T22:51:42.573374Z",
     "iopub.status.idle": "2024-01-07T22:51:42.580403Z",
     "shell.execute_reply": "2024-01-07T22:51:42.579558Z"
    },
    "papermill": {
     "duration": 3.486721,
     "end_time": "2024-01-07T22:51:42.582426",
     "exception": false,
     "start_time": "2024-01-07T22:51:39.095705",
     "status": "completed"
    },
    "tags": []
   },
   "outputs": [
    {
     "data": {
      "text/plain": [
       "'क्विन्टल सुन तस्करी प्रकरणमा नेकपा एमालेको अवरोधपछि राष्ट्रिय सभाको बैठक स्थगित भएको छ । प्रमुख प्रतिपक्षी दल एमालेले सुन तस्करी प्रकरणको छानबिनका लागि उच्चस्तरीय समिति गठन गर्न माग गर्दै संसद् अवरुद्ध पारेको हो । एमालेकै विरोधका कारण प्रतिनिधिसभा बैठकसमेत अवरुद्ध छ । राष्ट्रिय सभाका अध्यक्ष गणेशप्रसाद तिमिल्सिनाले निरन्तर संसद् अवरुद्ध हुँदै आएको विषयमा सरकारको ध्यानाकर्षण गराएका छन् । उनले संसद खुलाउने विषयमा पहल लिन आग्रह गरे । एमालेको अवरोधपछि राष्ट्रियसभाको बैठक साउन २२ गते सोमबार १ बजे बस्ने गरी स्थगित भएको छ । अन्तर्राष्ट्रिय विमानस्थलबाट निकालिएको करिब एक क्विन्टल सुन साउन २ मा सिनामंगल सडकबाट बरामद गरिएको थियो । भन्सार यार्ड पार गरेर बाहिरिएको क्विन्टल सुन बरामद भएको दुई साता बितिसक्दा तस्करीमा प्रयोग भएका व्यक्ति मात्र पक्राउ परेका छन् । सुन बरामद हुँदा एक भन्सार एजेन्ट र एक ट्याक्सी चालक पक्राउ परेका थिए । त्यसबाहेक भन्सार अधिकृत, तीन भन्सार एजेन्ट र तीन विदेशी नागरिकसहित १७ जना समातिएका छन् । राजस्व अनुसन्धान विभागले यो प्रकरणको छानबिन गरिरहेको छ । तर एमालेले भने उच्चस्तरीय छानबिन समिति गठनको माग गर्दै संसद् अवरोध गर्दै आएको छ ।'"
      ]
     },
     "execution_count": 10,
     "metadata": {},
     "output_type": "execute_result"
    }
   ],
   "source": [
    "\" \".join(text.replace(\"\\n\", \" \").split())"
   ]
  },
  {
   "cell_type": "code",
   "execution_count": 11,
   "id": "33f9197d",
   "metadata": {
    "execution": {
     "iopub.execute_input": "2024-01-07T22:51:49.400340Z",
     "iopub.status.busy": "2024-01-07T22:51:49.399933Z",
     "iopub.status.idle": "2024-01-07T22:51:49.404962Z",
     "shell.execute_reply": "2024-01-07T22:51:49.404110Z"
    },
    "papermill": {
     "duration": 3.517412,
     "end_time": "2024-01-07T22:51:49.406845",
     "exception": false,
     "start_time": "2024-01-07T22:51:45.889433",
     "status": "completed"
    },
    "tags": []
   },
   "outputs": [],
   "source": [
    "text = text.replace(\"\\n\", \" \")\n",
    "sentences = text.split(\"।\")\n",
    "sentences = [sentence for sentence in sentences if sentence.strip() != \"\"]"
   ]
  },
  {
   "cell_type": "code",
   "execution_count": 12,
   "id": "9175f18f",
   "metadata": {
    "execution": {
     "iopub.execute_input": "2024-01-07T22:51:56.290369Z",
     "iopub.status.busy": "2024-01-07T22:51:56.289287Z",
     "iopub.status.idle": "2024-01-07T22:51:56.294550Z",
     "shell.execute_reply": "2024-01-07T22:51:56.293693Z"
    },
    "papermill": {
     "duration": 3.570741,
     "end_time": "2024-01-07T22:51:56.296329",
     "exception": false,
     "start_time": "2024-01-07T22:51:52.725588",
     "status": "completed"
    },
    "tags": []
   },
   "outputs": [],
   "source": [
    "def remove_text_inside_paranthesis(text):\n",
    "    if type(text) == float:\n",
    "        return text\n",
    "    return re.sub(r'\\([^)]*\\)', '', text)"
   ]
  },
  {
   "cell_type": "code",
   "execution_count": 13,
   "id": "9df083d7",
   "metadata": {
    "execution": {
     "iopub.execute_input": "2024-01-07T22:52:03.140627Z",
     "iopub.status.busy": "2024-01-07T22:52:03.140248Z",
     "iopub.status.idle": "2024-01-07T22:52:03.146715Z",
     "shell.execute_reply": "2024-01-07T22:52:03.145837Z"
    },
    "papermill": {
     "duration": 3.513422,
     "end_time": "2024-01-07T22:52:03.148657",
     "exception": false,
     "start_time": "2024-01-07T22:51:59.635235",
     "status": "completed"
    },
    "tags": []
   },
   "outputs": [],
   "source": [
    "def remove_emojis_english_and_numbers(data):\n",
    "    '''\n",
    "    Removes emojis, non-nepali texts and numbers from the given text\n",
    "    '''\n",
    "    # Removes emoji from given data\n",
    "    emoj = re.compile(\"[\"\n",
    "        u\"\\U0001F600-\\U0001F64F\"  # emoticons\n",
    "        u\"\\U0001F300-\\U0001F5FF\"  # symbols & pictographs\n",
    "        u\"\\U0001F680-\\U0001F6FF\"  # transport & map symbols\n",
    "        u\"\\U0001F1E0-\\U0001F1FF\"  # flags (iOS)\n",
    "        u\"\\U00002500-\\U00002BEF\"  # chinese char\n",
    "        u\"\\U00002702-\\U000027B0\"\n",
    "        u\"\\U00002702-\\U000027B0\"\n",
    "        u\"\\U000024C2-\\U0001F251\"\n",
    "        u\"\\U0001f926-\\U0001f937\"\n",
    "        u\"\\U00010000-\\U0010ffff\"\n",
    "        u\"\\u2640-\\u2642\" \n",
    "        u\"\\u2600-\\u2B55\"\n",
    "        u\"\\u200d\"\n",
    "        u\"\\u23cf\"\n",
    "        u\"\\u23e9\"\n",
    "        u\"\\u231a\"\n",
    "        u\"\\ufe0f\"  # dingbats\n",
    "        u\"\\u3030\"\n",
    "                      \"]+\", re.UNICODE)\n",
    "    res = re.sub(emoj, '', data)\n",
    "    res = re.sub('[0-9]+', '', res)\n",
    "    return re.sub('[a-zA-Z]', '', res)"
   ]
  },
  {
   "cell_type": "code",
   "execution_count": 14,
   "id": "1ceae61c",
   "metadata": {
    "execution": {
     "iopub.execute_input": "2024-01-07T22:52:09.930150Z",
     "iopub.status.busy": "2024-01-07T22:52:09.929801Z",
     "iopub.status.idle": "2024-01-07T22:52:09.934316Z",
     "shell.execute_reply": "2024-01-07T22:52:09.933410Z"
    },
    "papermill": {
     "duration": 3.482049,
     "end_time": "2024-01-07T22:52:09.936248",
     "exception": false,
     "start_time": "2024-01-07T22:52:06.454199",
     "status": "completed"
    },
    "tags": []
   },
   "outputs": [],
   "source": [
    "punctuations = list(string.punctuation)\n",
    "punctuations.remove(\":\")"
   ]
  },
  {
   "cell_type": "code",
   "execution_count": 15,
   "id": "fe7019da",
   "metadata": {
    "execution": {
     "iopub.execute_input": "2024-01-07T22:52:16.710552Z",
     "iopub.status.busy": "2024-01-07T22:52:16.709477Z",
     "iopub.status.idle": "2024-01-07T22:52:16.727193Z",
     "shell.execute_reply": "2024-01-07T22:52:16.726304Z"
    },
    "papermill": {
     "duration": 3.518768,
     "end_time": "2024-01-07T22:52:16.729224",
     "exception": false,
     "start_time": "2024-01-07T22:52:13.210456",
     "status": "completed"
    },
    "tags": []
   },
   "outputs": [
    {
     "name": "stdout",
     "output_type": "stream",
     "text": [
      "विप्लवको क्रान्ति ! खसी नदिएपछि हत्या गरेका थिए शिक्षक श्रेष्ठलाई\n"
     ]
    },
    {
     "data": {
      "text/plain": [
       "'विप्लवको क्रान्ति खसी नदिएपछि हत्या शिक्षक श्रेष्ठलाई'"
      ]
     },
     "execution_count": 15,
     "metadata": {},
     "output_type": "execute_result"
    }
   ],
   "source": [
    "def preprocess_text(data, is_title=False):\n",
    "    if type(data) == float:\n",
    "        return data\n",
    "    data = remove_text_inside_paranthesis(data)\n",
    "    data = data.replace(\"-\", \" \").replace(\"—\", \" \").replace(\"‘\", \" \").replace(\"’\", \" \").replace(\"।\", \" \").replace(\"–\", \" \").replace(\"“\", \" \").replace(\"”\", \" \") .replace(\"\\n\", \" \").replace(\"–\", \" \").replace(\" : \", \": \")\n",
    "    no_extra_spaces = \" \".join(data.split())\n",
    "    no_emoji_english_numbers = remove_emojis_english_and_numbers(no_extra_spaces)\n",
    "    no_punc = \"\".join([char for char in no_emoji_english_numbers if char not in punctuations and char not in \"०१२३४५६७८९\"])\n",
    "    extra = \" \".join(no_punc.split())\n",
    "    # Remove stopwords from news only\n",
    "    if not is_title:\n",
    "        no_stopwords = [word for word in extra.split() if word.strip() not in nep_stopwrods]\n",
    "        return \" \".join(no_stopwords)\n",
    "    else:\n",
    "        return extra\n",
    "print(\"विप्लवको क्रान्ति ! खसी नदिएपछि हत्या गरेका थिए शिक्षक श्रेष्ठलाई\")\n",
    "preprocess_text(\"विप्लवको क्रान्ति ! खसी नदिएपछि हत्या गरेका थिए शिक्षक श्रेष्ठलाई\")\n",
    "# print(ratopati[\"title\"][4345])\n",
    "# preprocess_text(ratopati[\"title\"][4345], True)"
   ]
  },
  {
   "cell_type": "code",
   "execution_count": 16,
   "id": "5b1a5178",
   "metadata": {
    "execution": {
     "iopub.execute_input": "2024-01-07T22:52:23.521614Z",
     "iopub.status.busy": "2024-01-07T22:52:23.521117Z",
     "iopub.status.idle": "2024-01-07T22:52:23.526509Z",
     "shell.execute_reply": "2024-01-07T22:52:23.525605Z"
    },
    "papermill": {
     "duration": 3.512047,
     "end_time": "2024-01-07T22:52:23.528390",
     "exception": false,
     "start_time": "2024-01-07T22:52:20.016343",
     "status": "completed"
    },
    "tags": []
   },
   "outputs": [],
   "source": [
    "\n",
    "def avg_word_vector(sentence):\n",
    "    preprocessed = preprocess_text(sentence) \n",
    "    word_vectors = []        \n",
    "    words = preprocessed.split()\n",
    "    for word in words:\n",
    "        word_vectors.append(model.get_word_vector(word))\n",
    "    return np.mean(word_vectors, axis=0)\n",
    "        "
   ]
  },
  {
   "cell_type": "code",
   "execution_count": 17,
   "id": "e8b096d0",
   "metadata": {
    "execution": {
     "iopub.execute_input": "2024-01-07T22:52:30.470836Z",
     "iopub.status.busy": "2024-01-07T22:52:30.470263Z",
     "iopub.status.idle": "2024-01-07T22:52:30.479727Z",
     "shell.execute_reply": "2024-01-07T22:52:30.478873Z"
    },
    "papermill": {
     "duration": 3.518682,
     "end_time": "2024-01-07T22:52:30.481813",
     "exception": false,
     "start_time": "2024-01-07T22:52:26.963131",
     "status": "completed"
    },
    "tags": []
   },
   "outputs": [],
   "source": [
    "sentence_vectors = []\n",
    "for sentence in sentences:\n",
    "    if sentence.strip() == \"\":\n",
    "        continue\n",
    "    sentence_vector = avg_word_vector(sentence)\n",
    "    sentence_vectors.append(sentence_vector)"
   ]
  },
  {
   "cell_type": "code",
   "execution_count": 18,
   "id": "504b7ea2",
   "metadata": {
    "execution": {
     "iopub.execute_input": "2024-01-07T22:52:37.300254Z",
     "iopub.status.busy": "2024-01-07T22:52:37.299876Z",
     "iopub.status.idle": "2024-01-07T22:52:37.307468Z",
     "shell.execute_reply": "2024-01-07T22:52:37.306566Z"
    },
    "papermill": {
     "duration": 3.485417,
     "end_time": "2024-01-07T22:52:37.309527",
     "exception": false,
     "start_time": "2024-01-07T22:52:33.824110",
     "status": "completed"
    },
    "tags": []
   },
   "outputs": [],
   "source": [
    "similarity_matrix = cosine_similarity(sentence_vectors)"
   ]
  },
  {
   "cell_type": "code",
   "execution_count": 19,
   "id": "1fddb8c4",
   "metadata": {
    "execution": {
     "iopub.execute_input": "2024-01-07T22:52:44.118993Z",
     "iopub.status.busy": "2024-01-07T22:52:44.118624Z",
     "iopub.status.idle": "2024-01-07T22:52:45.356833Z",
     "shell.execute_reply": "2024-01-07T22:52:45.355521Z"
    },
    "papermill": {
     "duration": 4.745646,
     "end_time": "2024-01-07T22:52:45.358549",
     "exception": true,
     "start_time": "2024-01-07T22:52:40.612903",
     "status": "failed"
    },
    "tags": []
   },
   "outputs": [],
   "source": [
    "import networkx as nx\n",
    "\n",
    "G = nx.from_numpy_array(similarity_matrix)\n",
    "scores = nx.pagerank(G)"
   ]
  },
  {
   "cell_type": "code",
   "execution_count": 20,
   "id": "841d3680",
   "metadata": {
    "papermill": {
     "duration": null,
     "end_time": null,
     "exception": null,
     "start_time": null,
     "status": "pending"
    },
    "tags": []
   },
   "outputs": [],
   "source": [
    "sentences_scores = [[scores[i], sentences[i]] for i in range(len(sentences))]\n",
    "sentences_rank = sorted(sentences_scores, reverse=True)"
   ]
  },
  {
   "cell_type": "code",
   "execution_count": 21,
   "id": "ce8d80b2",
   "metadata": {
    "papermill": {
     "duration": null,
     "end_time": null,
     "exception": null,
     "start_time": null,
     "status": "pending"
    },
    "tags": []
   },
   "outputs": [],
   "source": [
    "top_sentences = 4"
   ]
  },
  {
   "cell_type": "code",
   "execution_count": 22,
   "id": "c8358922",
   "metadata": {
    "papermill": {
     "duration": null,
     "end_time": null,
     "exception": null,
     "start_time": null,
     "status": "pending"
    },
    "tags": []
   },
   "outputs": [],
   "source": [
    "summary = []\n",
    "for i in range(top_sentences):\n",
    "    summary.append(sentences_rank[i][1])"
   ]
  },
  {
   "cell_type": "code",
   "execution_count": 30,
   "id": "c9bbce37",
   "metadata": {
    "papermill": {
     "duration": null,
     "end_time": null,
     "exception": null,
     "start_time": null,
     "status": "pending"
    },
    "tags": []
   },
   "outputs": [
    {
     "name": "stdout",
     "output_type": "stream",
     "text": [
      "प्रमुख प्रतिपक्षी दल एमालेले सुन तस्करी प्रकरणको छानबिनका लागि उच्चस्तरीय समिति गठन गर्न माग गर्दै संसद् अवरुद्ध पारेको हो । क्विन्टल सुन तस्करी प्रकरणमा नेकपा एमालेको अवरोधपछि राष्ट्रिय सभाको बैठक स्थगित भएको छ । तर एमालेले भने उच्चस्तरीय छानबिन समिति गठनको माग गर्दै संसद् अवरोध गर्दै आएको छ । राष्ट्रिय सभाका अध्यक्ष गणेशप्रसाद तिमिल्सिनाले निरन्तर संसद् अवरुद्ध हुँदै आएको विषयमा सरकारको ध्यानाकर्षण गराएका छन्\n"
     ]
    }
   ],
   "source": [
    "print(\" \".join(\" । \".join(summary).split()))"
   ]
  }
 ],
 "metadata": {
  "kaggle": {
   "accelerator": "gpu",
   "dataSources": [
    {
     "datasetId": 4272196,
     "sourceId": 7355783,
     "sourceType": "datasetVersion"
    }
   ],
   "dockerImageVersionId": 30627,
   "isGpuEnabled": true,
   "isInternetEnabled": true,
   "language": "python",
   "sourceType": "notebook"
  },
  "kernelspec": {
   "display_name": "Python 3",
   "language": "python",
   "name": "python3"
  },
  "language_info": {
   "codemirror_mode": {
    "name": "ipython",
    "version": 3
   },
   "file_extension": ".py",
   "mimetype": "text/x-python",
   "name": "python",
   "nbconvert_exporter": "python",
   "pygments_lexer": "ipython3",
   "version": "3.11.5"
  },
  "papermill": {
   "default_parameters": {},
   "duration": 12214.182726,
   "end_time": "2024-01-07T22:52:49.394645",
   "environment_variables": {},
   "exception": true,
   "input_path": "__notebook__.ipynb",
   "output_path": "__notebook__.ipynb",
   "parameters": {},
   "start_time": "2024-01-07T19:29:15.211919",
   "version": "2.4.0"
  }
 },
 "nbformat": 4,
 "nbformat_minor": 5
}
